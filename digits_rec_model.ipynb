{
  "nbformat": 4,
  "nbformat_minor": 0,
  "metadata": {
    "colab": {
      "name": "digits_rec_model.ipynb",
      "provenance": [],
      "collapsed_sections": [],
      "mount_file_id": "https://github.com/OrJaku/chat-application/blob/master/digits_rec_model.ipynb",
      "authorship_tag": "ABX9TyM2m9s5aPQ3OXZ+0Bhbk4jd",
      "include_colab_link": true
    },
    "kernelspec": {
      "name": "python3",
      "display_name": "Python 3"
    }
  },
  "cells": [
    {
      "cell_type": "markdown",
      "metadata": {
        "id": "view-in-github",
        "colab_type": "text"
      },
      "source": [
        "<a href=\"https://colab.research.google.com/github/OrJaku/chat-application/blob/master/digits_rec_model.ipynb\" target=\"_parent\"><img src=\"https://colab.research.google.com/assets/colab-badge.svg\" alt=\"Open In Colab\"/></a>"
      ]
    },
    {
      "cell_type": "code",
      "metadata": {
        "id": "Gmg2QwCUlfN_",
        "colab_type": "code",
        "colab": {}
      },
      "source": [
        "from keras.datasets import mnist\n",
        "from keras import models, layers\n",
        "from keras.utils import to_categorical\n",
        "import numpy as np\n",
        "import pandas as ps\n",
        "import matplotlib\n",
        "matplotlib.use('agg')\n",
        "import matplotlib.pyplot as plt\n",
        "import os "
      ],
      "execution_count": 0,
      "outputs": []
    },
    {
      "cell_type": "code",
      "metadata": {
        "id": "DTPsX3Pe01pc",
        "colab_type": "code",
        "outputId": "3597a9f0-515a-4321-83d8-c3e96508b290",
        "colab": {
          "base_uri": "https://localhost:8080/",
          "height": 34
        }
      },
      "source": [
        "cd \"/content/drive/My Drive/Colab Notebooks/Handwritten_digital\""
      ],
      "execution_count": 2,
      "outputs": [
        {
          "output_type": "stream",
          "text": [
            "/content/drive/My Drive/Colab Notebooks/Handwritten_digital\n"
          ],
          "name": "stdout"
        }
      ]
    },
    {
      "cell_type": "code",
      "metadata": {
        "id": "Lx7kdAjBmens",
        "colab_type": "code",
        "colab": {}
      },
      "source": [
        "(train_images, train_labels), (test_images, test_labels) = mnist.load_data()"
      ],
      "execution_count": 0,
      "outputs": []
    },
    {
      "cell_type": "code",
      "metadata": {
        "id": "EeBOi_30wQ8N",
        "colab_type": "code",
        "colab": {}
      },
      "source": [
        "(train_images_origin, train_labels_origin), (test_images_origin, test_labels_origin) = mnist.load_data()"
      ],
      "execution_count": 0,
      "outputs": []
    },
    {
      "cell_type": "code",
      "metadata": {
        "id": "0ORHGWlSwnOy",
        "colab_type": "code",
        "outputId": "ebedbbfb-ce46-4744-a7fb-96844888c7fd",
        "colab": {
          "base_uri": "https://localhost:8080/",
          "height": 277
        }
      },
      "source": [
        "fig = plt.figure()\n",
        "for i in range(3*5):\n",
        "  plt.subplot(3,5,i+1)\n",
        "  plt.tight_layout()\n",
        "  plt.imshow(train_images_origin[i], cmap='gist_yarg')\n",
        "  plt.title(\"Digit: {}\".format(train_labels_origin[i]))\n",
        "  plt.xticks([])\n",
        "  plt.yticks([])\n",
        "fig"
      ],
      "execution_count": 64,
      "outputs": [
        {
          "output_type": "execute_result",
          "data": {
            "image/png": "[encoded data removed]",
            "text/plain": [
              "<Figure size 432x288 with 15 Axes>"
            ]
          },
          "metadata": {
            "tags": []
          },
          "execution_count": 64
        }
      ]
    },
    {
      "cell_type": "code",
      "metadata": {
        "id": "vWdLRKSqm8iJ",
        "colab_type": "code",
        "colab": {
          "base_uri": "https://localhost:8080/",
          "height": 34
        },
        "outputId": "ea602d03-e408-4b7b-a2b2-5a8549843b1d"
      },
      "source": [
        "train_images = train_images.reshape((60000, 28*28))\n",
        "train_images = train_images.astype(\"float32\") / 255\n",
        "test_images = test_images.reshape((10000, 28*28))\n",
        "test_images = test_images.astype(\"float32\") / 255\n",
        "\n",
        "\n",
        "train_images_val = train_images[10000:]\n",
        "train_labels_val = train_labels[10000:]\n",
        "\n",
        "val_images = train_images[:10000]\n",
        "val_labels = train_labels[:10000]\n",
        "\n",
        "val_images.shape"
      ],
      "execution_count": 158,
      "outputs": [
        {
          "output_type": "execute_result",
          "data": {
            "text/plain": [
              "(10000, 784)"
            ]
          },
          "metadata": {
            "tags": []
          },
          "execution_count": 158
        }
      ]
    },
    {
      "cell_type": "code",
      "metadata": {
        "id": "haORNMsFTtow",
        "colab_type": "code",
        "colab": {
          "base_uri": "https://localhost:8080/",
          "height": 68
        },
        "outputId": "cf57de88-98cb-4847-c373-1f6c46f30f17"
      },
      "source": [
        "train_labels_val = to_categorical(train_labels_val)\n",
        "print(train_labels_val.shape)\n",
        "test_labels = to_categorical(test_labels)\n",
        "print(test_labels.shape)\n",
        "val_labels = to_categorical(val_labels)\n",
        "print(test_labels.shape)\n"
      ],
      "execution_count": 159,
      "outputs": [
        {
          "output_type": "stream",
          "text": [
            "(50000, 10)\n",
            "(10000, 10)\n",
            "(10000, 10)\n"
          ],
          "name": "stdout"
        }
      ]
    },
    {
      "cell_type": "code",
      "metadata": {
        "id": "Pu88FLk_n46G",
        "colab_type": "code",
        "colab": {}
      },
      "source": [
        "network = models.Sequential()\n",
        "network.add(layers.Dense(\n",
        "                        512, \n",
        "                        activation='relu', \n",
        "                        input_shape=(28*28,),\n",
        "                        ))\n",
        "\n",
        "network.add(layers.Dense(\n",
        "                        512, \n",
        "                        activation='relu',\n",
        "                        ))\n",
        "\n",
        "network.add(layers.Dense(\n",
        "                        10, \n",
        "                        activation='softmax',\n",
        "                         ))\n",
        "\n",
        "network.compile(optimizer='adam',\n",
        "                loss='categorical_crossentropy',\n",
        "                metrics=['accuracy'])"
      ],
      "execution_count": 0,
      "outputs": []
    },
    {
      "cell_type": "code",
      "metadata": {
        "id": "YzkDZu8fqnq9",
        "colab_type": "code",
        "outputId": "130c8081-1f25-4ca1-e816-424f2dd3f6ca",
        "colab": {
          "base_uri": "https://localhost:8080/",
          "height": 1000
        }
      },
      "source": [
        "history = network.fit(\n",
        "    train_images_val, \n",
        "    train_labels_val, \n",
        "    epochs=20, \n",
        "    batch_size=128, \n",
        "    verbose=2,\n",
        "    validation_data=(val_images, val_labels))\n",
        "save_file = 'data/'\n",
        "model_name = 'model_mnist.h5'\n",
        "model_path = os.path.join(save_file, model_name)\n",
        "network.save(model_path)\n",
        "print('Saved trained model at %s ' % model_path)\n",
        "\n",
        "fig = plt.figure()\n",
        "plt.subplot(2,1,1)\n",
        "plt.plot(history.history['acc'])\n",
        "plt.plot(history.history['val_acc'])\n",
        "plt.title('model accuracy')\n",
        "plt.ylabel('accuracy')\n",
        "plt.xlabel('epoch')\n",
        "plt.legend(['train', 'test'], loc='lower right')\n",
        "\n",
        "plt.subplot(2,1,2)\n",
        "plt.plot(history.history['loss'])\n",
        "plt.plot(history.history['val_loss'])\n",
        "plt.title('model loss')\n",
        "plt.ylabel('loss')\n",
        "plt.xlabel('epoch')\n",
        "plt.legend(['train', 'test'], loc='upper right')\n",
        "\n",
        "plt.tight_layout()\n",
        "\n",
        "fig"
      ],
      "execution_count": 160,
      "outputs": [
        {
          "output_type": "stream",
          "text": [
            "Train on 50000 samples, validate on 10000 samples\n",
            "Epoch 1/20\n",
            " - 8s - loss: 0.2429 - acc: 0.9270 - val_loss: 0.1221 - val_acc: 0.9644\n",
            "Epoch 2/20\n",
            " - 7s - loss: 0.0873 - acc: 0.9724 - val_loss: 0.0834 - val_acc: 0.9745\n",
            "Epoch 3/20\n",
            " - 8s - loss: 0.0545 - acc: 0.9825 - val_loss: 0.0742 - val_acc: 0.9778\n",
            "Epoch 4/20\n",
            " - 8s - loss: 0.0370 - acc: 0.9877 - val_loss: 0.0786 - val_acc: 0.9762\n",
            "Epoch 5/20\n",
            " - 8s - loss: 0.0280 - acc: 0.9910 - val_loss: 0.0806 - val_acc: 0.9788\n",
            "Epoch 6/20\n",
            " - 7s - loss: 0.0223 - acc: 0.9926 - val_loss: 0.0860 - val_acc: 0.9766\n",
            "Epoch 7/20\n",
            " - 8s - loss: 0.0184 - acc: 0.9941 - val_loss: 0.1055 - val_acc: 0.9758\n",
            "Epoch 8/20\n",
            " - 7s - loss: 0.0178 - acc: 0.9940 - val_loss: 0.0889 - val_acc: 0.9774\n",
            "Epoch 9/20\n",
            " - 7s - loss: 0.0175 - acc: 0.9939 - val_loss: 0.0789 - val_acc: 0.9797\n",
            "Epoch 10/20\n",
            " - 7s - loss: 0.0137 - acc: 0.9955 - val_loss: 0.0838 - val_acc: 0.9803\n",
            "Epoch 11/20\n",
            " - 7s - loss: 0.0112 - acc: 0.9961 - val_loss: 0.0933 - val_acc: 0.9785\n",
            "Epoch 12/20\n",
            " - 7s - loss: 0.0083 - acc: 0.9974 - val_loss: 0.0984 - val_acc: 0.9773\n",
            "Epoch 13/20\n",
            " - 8s - loss: 0.0103 - acc: 0.9964 - val_loss: 0.1095 - val_acc: 0.9761\n",
            "Epoch 14/20\n",
            " - 7s - loss: 0.0125 - acc: 0.9959 - val_loss: 0.0902 - val_acc: 0.9815\n",
            "Epoch 15/20\n",
            " - 7s - loss: 0.0110 - acc: 0.9965 - val_loss: 0.1049 - val_acc: 0.9789\n",
            "Epoch 16/20\n",
            " - 7s - loss: 0.0088 - acc: 0.9971 - val_loss: 0.1053 - val_acc: 0.9779\n",
            "Epoch 17/20\n",
            " - 7s - loss: 0.0097 - acc: 0.9969 - val_loss: 0.0966 - val_acc: 0.9808\n",
            "Epoch 18/20\n",
            " - 7s - loss: 0.0089 - acc: 0.9971 - val_loss: 0.0923 - val_acc: 0.9813\n",
            "Epoch 19/20\n",
            " - 8s - loss: 0.0053 - acc: 0.9985 - val_loss: 0.1000 - val_acc: 0.9811\n",
            "Epoch 20/20\n",
            " - 8s - loss: 0.0108 - acc: 0.9963 - val_loss: 0.0957 - val_acc: 0.9812\n",
            "Saved trained model at data/model_mnist.h5 \n"
          ],
          "name": "stdout"
        },
        {
          "output_type": "execute_result",
          "data": {
            "image/png": "[encoded data removed]",
            "text/plain": [
              "<Figure size 432x288 with 2 Axes>"
            ]
          },
          "metadata": {
            "tags": []
          },
          "execution_count": 160
        }
      ]
    },
    {
      "cell_type": "code",
      "metadata": {
        "id": "y3wgOU98RbWn",
        "colab_type": "code",
        "colab": {
          "base_uri": "https://localhost:8080/",
          "height": 34
        },
        "outputId": "40313254-8751-44ad-c865-c50eb366a66b"
      },
      "source": [
        "model = network.load_weights('data/model_mnist.h5')\n",
        "print(type(model))\n"
      ],
      "execution_count": 93,
      "outputs": [
        {
          "output_type": "stream",
          "text": [
            "<class 'keras.engine.sequential.Sequential'>\n"
          ],
          "name": "stdout"
        }
      ]
    },
    {
      "cell_type": "code",
      "metadata": {
        "id": "SMX8h6b87PMP",
        "colab_type": "code",
        "colab": {
          "base_uri": "https://localhost:8080/",
          "height": 34
        },
        "outputId": "7f744aa9-dc4f-46e4-c7df-7123b9ff0ee7"
      },
      "source": [
        "loss_acc = network.evaluate(test_images, test_labels)"
      ],
      "execution_count": 161,
      "outputs": [
        {
          "output_type": "stream",
          "text": [
            "10000/10000 [==============================] - 1s 70us/step\n"
          ],
          "name": "stdout"
        }
      ]
    },
    {
      "cell_type": "code",
      "metadata": {
        "id": "iQyeW9RnROp7",
        "colab_type": "code",
        "colab": {
          "base_uri": "https://localhost:8080/",
          "height": 51
        },
        "outputId": "a77cafb2-e139-451c-cc61-3e4b43515dd5"
      },
      "source": [
        "print('loss= ', loss_acc[0])\n",
        "print(\"acc= \", loss_acc[1])"
      ],
      "execution_count": 162,
      "outputs": [
        {
          "output_type": "stream",
          "text": [
            "loss=  0.0989786703375959\n",
            "acc=  0.9802\n"
          ],
          "name": "stdout"
        }
      ]
    },
    {
      "cell_type": "code",
      "metadata": {
        "id": "kWs9XCjVYNOt",
        "colab_type": "code",
        "colab": {}
      },
      "source": [
        ""
      ],
      "execution_count": 0,
      "outputs": []
    }
  ]
}